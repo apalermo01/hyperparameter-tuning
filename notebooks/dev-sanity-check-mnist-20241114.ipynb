{
 "cells": [
  {
   "cell_type": "markdown",
   "id": "a300382b-4242-4a1f-baaf-e3ed8371869a",
   "metadata": {},
   "source": [
    "# Sanity check for mnist\n",
    "\n",
    "Run some mnist models through the test set and visualize results"
   ]
  },
  {
   "cell_type": "code",
   "execution_count": 4,
   "id": "363d67e7-f574-4e1a-a8d8-c2e0d24e3173",
   "metadata": {},
   "outputs": [
    {
     "name": "stderr",
     "output_type": "stream",
     "text": [
      "GPU available: False, used: False\n",
      "TPU available: False, using: 0 TPU cores\n",
      "HPU available: False, using: 0 HPUs\n"
     ]
    },
    {
     "name": "stdout",
     "output_type": "stream",
     "text": [
      "pl version =  2.4.0\n",
      "model is LightningModule? True\n"
     ]
    }
   ],
   "source": [
    "import os\n",
    "import yaml\n",
    "from hparam_tuning_project.training.utils import build_modules\n",
    "import torch\n",
    "import torch.nn.functional as F\n",
    "import matplotlib.pyplot as plt\n",
    "import numpy as np\n",
    "import matplotlib\n",
    "matplotlib.use('Qt5Agg')\n",
    "experiment = \"test_lr_results_on_full_datasets\"\n",
    "version = \"version_1\"\n",
    "batch_size = 24\n",
    "checkpoint_root = f\"./experiments/{experiment}/lightning_logs/{version}/\"\n",
    "checkpoint_path = os.path.join(checkpoint_root, \"checkpoints\", os.listdir(checkpoint_root + \"checkpoints\")[0])\n",
    "with open(os.path.join(checkpoint_root, \"hparams.yaml\"), \"r\") as f:\n",
    "    cfg = yaml.safe_load(f)\n",
    "\n",
    "cfg['data_cfg']['batch_size'] = batch_size\n",
    "learner, model, dataset = build_modules(cfg, checkpoint_path=checkpoint_path)"
   ]
  },
  {
   "cell_type": "code",
   "execution_count": 5,
   "id": "111c827d-6f85-4c99-b982-2c53b980ef11",
   "metadata": {},
   "outputs": [],
   "source": [
    "def get_inferences(results):\n",
    "    results = F.sigmoid(results)\n",
    "    indices = torch.argmax(results, dim=1)\n",
    "    return indices\n",
    "\n",
    "dataset.setup()\n",
    "dl = dataset.test_dataloader()\n",
    "sample, label = None, None\n",
    "for _sample, _label in dl:\n",
    "    sample = _sample\n",
    "    label = _label\n",
    "    break\n",
    "results = model(sample)\n",
    "results = get_inferences(results)"
   ]
  },
  {
   "cell_type": "code",
   "execution_count": 6,
   "id": "df722989-a515-4273-a220-c02644fe4099",
   "metadata": {},
   "outputs": [],
   "source": [
    "nrows = batch_size // 4\n",
    "ncols = 4\n",
    "fig, axes = plt.subplots(nrows=nrows, ncols=ncols)\n",
    "for i, ax in enumerate(axes.flatten()):\n",
    "    img = sample[i][0, :, :]\n",
    "    pred = results[i]\n",
    "    gt = label[i]\n",
    "    ax.imshow(img, cmap='gray')\n",
    "    if pred == gt:\n",
    "        color = 'green'\n",
    "    else:\n",
    "        color = 'red'\n",
    "    ax.set_title(f\"pred = {pred}, actual = {gt}\", color=color)\n",
    "plt.show()"
   ]
  },
  {
   "cell_type": "code",
   "execution_count": null,
   "id": "f7727b1e-c31c-42d8-9c08-2f1267ecec88",
   "metadata": {},
   "outputs": [],
   "source": []
  },
  {
   "cell_type": "code",
   "execution_count": null,
   "id": "ca731fbb-9084-4247-87ce-963b3d7d14ee",
   "metadata": {},
   "outputs": [],
   "source": []
  }
 ],
 "metadata": {
  "kernelspec": {
   "display_name": "Python 3 (ipykernel)",
   "language": "python",
   "name": "python3"
  },
  "language_info": {
   "codemirror_mode": {
    "name": "ipython",
    "version": 3
   },
   "file_extension": ".py",
   "mimetype": "text/x-python",
   "name": "python",
   "nbconvert_exporter": "python",
   "pygments_lexer": "ipython3",
   "version": "3.12.7"
  }
 },
 "nbformat": 4,
 "nbformat_minor": 5
}
