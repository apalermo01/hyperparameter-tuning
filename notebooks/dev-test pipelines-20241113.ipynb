{
 "cells": [
  {
   "cell_type": "code",
   "execution_count": 1,
   "id": "f13852c7-d2ec-4ac0-8a64-33f84e35ee30",
   "metadata": {},
   "outputs": [],
   "source": [
    "import os\n",
    "import yaml\n",
    "from hparam_tuning_project.training.utils import build_modules\n",
    "\n",
    "root_path = \"./experiments/lr_batch_20241109/results/\"\n",
    "results_path = root_path + os.listdir(root_path)[0]\n",
    "with open(results_path, \"r\") as f:\n",
    "    res = yaml.safe_load(f)\n",
    "cfg = res['config']\n",
    "cfg['optimizer_cfg']['args']['lr'] = res['best_metrics']['config']['train_loop_config']['optimizer_cfg']['args']['lr']\n",
    "cfg['data_cfg']['workdir'] = '/home/alex/Documents/git/hyperparameter-tuning'\n",
    "cfg['data_cfg']['split_id'] = 'mnist_0_1'\n",
    "cfg['flags']['max_epochs'] = 2\n",
    "cfg['flags']['enable_progress_bar'] = True"
   ]
  },
  {
   "cell_type": "code",
   "execution_count": 2,
   "id": "bcf0358f-e7f0-48b5-a7b9-6158ff9f98fa",
   "metadata": {},
   "outputs": [
    {
     "data": {
      "text/plain": [
       "{'callbacks': [{'early_stop': {'mode': 'min', 'monitor': 'val_loss'}},\n",
       "  {'plot_metrics': None}],\n",
       " 'data_cfg': {'batch_size': 16,\n",
       "  'dataset_id': 'mnist',\n",
       "  'num_workers': 3,\n",
       "  'split_id': 'mnist_0_1',\n",
       "  'train': True,\n",
       "  'use_precomputed_split': True,\n",
       "  'workdir': '/home/alex/Documents/git/hyperparameter-tuning'},\n",
       " 'flags': {'default_root_dir': './experiments/single_run/',\n",
       "  'enable_progress_bar': True,\n",
       "  'max_epochs': 2},\n",
       " 'loss_cfg': {'args': None, 'loss_id': 'bce_with_logits_loss'},\n",
       " 'model_cfg': {'args': {'batch_norm': True,\n",
       "   'ch1': 8,\n",
       "   'ch2': 16,\n",
       "   'ch3': 64,\n",
       "   'dropout': True,\n",
       "   'in_channels': 1,\n",
       "   'input_shape': [28, 28],\n",
       "   'lin1': 128,\n",
       "   'n_classes': 10},\n",
       "  'model_id': 'CNN2'},\n",
       " 'optimizer_cfg': {'args': {'lr': 0.0033417369533103336},\n",
       "  'optimizer_id': 'adam'}}"
      ]
     },
     "execution_count": 2,
     "metadata": {},
     "output_type": "execute_result"
    }
   ],
   "source": [
    "cfg"
   ]
  },
  {
   "cell_type": "code",
   "execution_count": 3,
   "id": "c8d9c0ff-e3d5-4c16-8cba-2503a1d8ac79",
   "metadata": {},
   "outputs": [
    {
     "name": "stderr",
     "output_type": "stream",
     "text": [
      "GPU available: False, used: False\n",
      "TPU available: False, using: 0 TPU cores\n",
      "HPU available: False, using: 0 HPUs\n"
     ]
    },
    {
     "name": "stdout",
     "output_type": "stream",
     "text": [
      "pl version =  2.4.0\n",
      "model is LightningModule? True\n"
     ]
    }
   ],
   "source": [
    "learner, model, dataset = build_modules(cfg)"
   ]
  },
  {
   "cell_type": "code",
   "execution_count": 4,
   "id": "4ca543af-881a-4b4e-aa53-a1735a935e4e",
   "metadata": {},
   "outputs": [
    {
     "name": "stderr",
     "output_type": "stream",
     "text": [
      "\n",
      "  | Name  | Type              | Params | Mode \n",
      "----------------------------------------------------\n",
      "0 | model | Net               | 85.9 K | train\n",
      "1 | loss  | BCEWithLogitsLoss | 0      | train\n",
      "----------------------------------------------------\n",
      "85.9 K    Trainable params\n",
      "0         Non-trainable params\n",
      "85.9 K    Total params\n",
      "0.343     Total estimated model params size (MB)\n",
      "20        Modules in train mode\n",
      "0         Modules in eval mode\n"
     ]
    },
    {
     "data": {
      "application/vnd.jupyter.widget-view+json": {
       "model_id": "",
       "version_major": 2,
       "version_minor": 0
      },
      "text/plain": [
       "Sanity Checking: |                                                                                            …"
      ]
     },
     "metadata": {},
     "output_type": "display_data"
    },
    {
     "data": {
      "application/vnd.jupyter.widget-view+json": {
       "model_id": "3eab66706ccc489fbb43812fb3b0ed59",
       "version_major": 2,
       "version_minor": 0
      },
      "text/plain": [
       "Training: |                                                                                                   …"
      ]
     },
     "metadata": {},
     "output_type": "display_data"
    },
    {
     "data": {
      "application/vnd.jupyter.widget-view+json": {
       "model_id": "",
       "version_major": 2,
       "version_minor": 0
      },
      "text/plain": [
       "Validation: |                                                                                                 …"
      ]
     },
     "metadata": {},
     "output_type": "display_data"
    },
    {
     "data": {
      "application/vnd.jupyter.widget-view+json": {
       "model_id": "",
       "version_major": 2,
       "version_minor": 0
      },
      "text/plain": [
       "Validation: |                                                                                                 …"
      ]
     },
     "metadata": {},
     "output_type": "display_data"
    },
    {
     "name": "stderr",
     "output_type": "stream",
     "text": [
      "`Trainer.fit` stopped: `max_epochs=2` reached.\n"
     ]
    }
   ],
   "source": [
    "learner.fit(model, dataset)"
   ]
  },
  {
   "cell_type": "code",
   "execution_count": 5,
   "id": "fbfa7071-4798-45f8-b10d-a9c241eecfa5",
   "metadata": {},
   "outputs": [
    {
     "name": "stderr",
     "output_type": "stream",
     "text": [
      "Restoring states from the checkpoint path at experiments/single_run/lightning_logs/version_21/checkpoints/epoch=1-step=600.ckpt\n",
      "Loaded model weights from the checkpoint at experiments/single_run/lightning_logs/version_21/checkpoints/epoch=1-step=600.ckpt\n"
     ]
    },
    {
     "data": {
      "application/vnd.jupyter.widget-view+json": {
       "model_id": "22f5a47c8a1b4757b30e2b9cc7ea4a26",
       "version_major": 2,
       "version_minor": 0
      },
      "text/plain": [
       "Testing: |                                                                                                    …"
      ]
     },
     "metadata": {},
     "output_type": "display_data"
    },
    {
     "data": {
      "text/html": [
       "<pre style=\"white-space:pre;overflow-x:auto;line-height:normal;font-family:Menlo,'DejaVu Sans Mono',consolas,'Courier New',monospace\">┏━━━━━━━━━━━━━━━━━━━━━━━━━━━┳━━━━━━━━━━━━━━━━━━━━━━━━━━━┓\n",
       "┃<span style=\"font-weight: bold\">        Test metric        </span>┃<span style=\"font-weight: bold\">       DataLoader 0        </span>┃\n",
       "┡━━━━━━━━━━━━━━━━━━━━━━━━━━━╇━━━━━━━━━━━━━━━━━━━━━━━━━━━┩\n",
       "│<span style=\"color: #008080; text-decoration-color: #008080\">      accuracy_epoch       </span>│<span style=\"color: #800080; text-decoration-color: #800080\">    0.9661999940872192     </span>│\n",
       "└───────────────────────────┴───────────────────────────┘\n",
       "</pre>\n"
      ],
      "text/plain": [
       "┏━━━━━━━━━━━━━━━━━━━━━━━━━━━┳━━━━━━━━━━━━━━━━━━━━━━━━━━━┓\n",
       "┃\u001b[1m \u001b[0m\u001b[1m       Test metric       \u001b[0m\u001b[1m \u001b[0m┃\u001b[1m \u001b[0m\u001b[1m      DataLoader 0       \u001b[0m\u001b[1m \u001b[0m┃\n",
       "┡━━━━━━━━━━━━━━━━━━━━━━━━━━━╇━━━━━━━━━━━━━━━━━━━━━━━━━━━┩\n",
       "│\u001b[36m \u001b[0m\u001b[36m     accuracy_epoch      \u001b[0m\u001b[36m \u001b[0m│\u001b[35m \u001b[0m\u001b[35m   0.9661999940872192    \u001b[0m\u001b[35m \u001b[0m│\n",
       "└───────────────────────────┴───────────────────────────┘\n"
      ]
     },
     "metadata": {},
     "output_type": "display_data"
    }
   ],
   "source": [
    "res = learner.test(ckpt_path='best', datamodule=dataset)"
   ]
  },
  {
   "cell_type": "code",
   "execution_count": 6,
   "id": "af127b1b-0520-475f-a815-978c8203d5a4",
   "metadata": {},
   "outputs": [
    {
     "data": {
      "text/plain": [
       "[{'accuracy_epoch': 0.9661999940872192}]"
      ]
     },
     "execution_count": 6,
     "metadata": {},
     "output_type": "execute_result"
    }
   ],
   "source": [
    "res"
   ]
  },
  {
   "cell_type": "code",
   "execution_count": null,
   "id": "e80b99d5-0900-45e5-8a08-a757bfe4b363",
   "metadata": {},
   "outputs": [],
   "source": []
  }
 ],
 "metadata": {
  "kernelspec": {
   "display_name": "Python 3 (ipykernel)",
   "language": "python",
   "name": "python3"
  },
  "language_info": {
   "codemirror_mode": {
    "name": "ipython",
    "version": 3
   },
   "file_extension": ".py",
   "mimetype": "text/x-python",
   "name": "python",
   "nbconvert_exporter": "python",
   "pygments_lexer": "ipython3",
   "version": "3.12.7"
  }
 },
 "nbformat": 4,
 "nbformat_minor": 5
}
