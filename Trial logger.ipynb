{
 "cells": [
  {
   "cell_type": "markdown",
   "id": "10cfed35",
   "metadata": {},
   "source": [
    "## Run 1 - 20221017 (mnist_lr_optim)\n",
    "\n",
    "\n",
    "evaluating basic CNN on mnist to check that tuning pipeline is working properly. Train mnist for 100 trials to try to get an optimal learning rate on full dataset."
   ]
  }
 ],
 "metadata": {
  "kernelspec": {
   "display_name": "Python 3 (ipykernel)",
   "language": "python",
   "name": "python3"
  },
  "language_info": {
   "codemirror_mode": {
    "name": "ipython",
    "version": 3
   },
   "file_extension": ".py",
   "mimetype": "text/x-python",
   "name": "python",
   "nbconvert_exporter": "python",
   "pygments_lexer": "ipython3",
   "version": "3.8.13"
  }
 },
 "nbformat": 4,
 "nbformat_minor": 5
}
