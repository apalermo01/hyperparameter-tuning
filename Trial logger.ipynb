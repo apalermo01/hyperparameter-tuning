{
 "cells": [
  {
   "cell_type": "markdown",
   "id": "10cfed35",
   "metadata": {},
   "source": [
    "## Run 1 - 20221018 (mnist_lr_optim)\n",
    "\n",
    "\n",
    "evaluating basic CNN on mnist to check that tuning pipeline is working properly. Train mnist for 100 trials to try to get an optimal learning rate on full dataset.\n",
    "\n",
    "pytorch lightning does have a learning rate finder, but for the sake of consistency, let's stick with using ray tune for all hyperparameter tuning"
   ]
  },
  {
   "cell_type": "code",
   "execution_count": null,
   "id": "961d38be",
   "metadata": {},
   "outputs": [],
   "source": []
  }
 ],
 "metadata": {
  "kernelspec": {
   "display_name": "Python 3 (ipykernel)",
   "language": "python",
   "name": "python3"
  },
  "language_info": {
   "codemirror_mode": {
    "name": "ipython",
    "version": 3
   },
   "file_extension": ".py",
   "mimetype": "text/x-python",
   "name": "python",
   "nbconvert_exporter": "python",
   "pygments_lexer": "ipython3",
   "version": "3.8.13"
  }
 },
 "nbformat": 4,
 "nbformat_minor": 5
}
