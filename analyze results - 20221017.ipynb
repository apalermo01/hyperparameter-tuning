{
 "cells": [
  {
   "cell_type": "code",
   "execution_count": 2,
   "id": "5df8262a",
   "metadata": {},
   "outputs": [],
   "source": [
    "from ray import tune\n",
    "import pandas as pd\n",
    "import matplotlib.pyplot as plt"
   ]
  },
  {
   "cell_type": "code",
   "execution_count": 3,
   "id": "df46ca65",
   "metadata": {},
   "outputs": [
    {
     "name": "stdout",
     "output_type": "stream",
     "text": [
      "'analyze results - 20221017.ipynb'   notebooks\t        setup.py\r\n",
      " hparam_tuning_project\t\t     README.md\t        training_configs\r\n",
      " hparam_tuning_project.egg-info      requirements.txt  'Trial logger.ipynb'\r\n",
      " lightning_logs\t\t\t     scripts\r\n"
     ]
    }
   ],
   "source": [
    "!ls\n"
   ]
  },
  {
   "cell_type": "code",
   "execution_count": 4,
   "id": "7e969af3",
   "metadata": {},
   "outputs": [],
   "source": [
    "!cd /home/alex/Documents/personal-projects/pl-model-zoo/"
   ]
  },
  {
   "cell_type": "code",
   "execution_count": 5,
   "id": "5854a5eb",
   "metadata": {},
   "outputs": [
    {
     "name": "stdout",
     "output_type": "stream",
     "text": [
      "'analyze results - 20221017.ipynb'   notebooks\t        setup.py\r\n",
      " hparam_tuning_project\t\t     README.md\t        training_configs\r\n",
      " hparam_tuning_project.egg-info      requirements.txt  'Trial logger.ipynb'\r\n",
      " lightning_logs\t\t\t     scripts\r\n"
     ]
    }
   ],
   "source": [
    "!ls"
   ]
  },
  {
   "cell_type": "code",
   "execution_count": 6,
   "id": "13ba77de",
   "metadata": {},
   "outputs": [
    {
     "name": "stdout",
     "output_type": "stream",
     "text": [
      "Obtaining file:///home/alex/Documents/personal-projects/hyperparameter-tuning\n",
      "  Preparing metadata (setup.py) ... \u001b[?25ldone\n",
      "\u001b[?25hInstalling collected packages: hparam-tuning-project\n",
      "  Attempting uninstall: hparam-tuning-project\n",
      "    Found existing installation: hparam-tuning-project 0.1\n",
      "    Uninstalling hparam-tuning-project-0.1:\n",
      "      Successfully uninstalled hparam-tuning-project-0.1\n",
      "  Running setup.py develop for hparam-tuning-project\n",
      "Successfully installed hparam-tuning-project-0.1\n"
     ]
    }
   ],
   "source": [
    "!pip install --editable ."
   ]
  },
  {
   "cell_type": "code",
   "execution_count": null,
   "id": "b94b02a6",
   "metadata": {},
   "outputs": [],
   "source": []
  }
 ],
 "metadata": {
  "kernelspec": {
   "display_name": "Python 3 (ipykernel)",
   "language": "python",
   "name": "python3"
  },
  "language_info": {
   "codemirror_mode": {
    "name": "ipython",
    "version": 3
   },
   "file_extension": ".py",
   "mimetype": "text/x-python",
   "name": "python",
   "nbconvert_exporter": "python",
   "pygments_lexer": "ipython3",
   "version": "3.8.13"
  }
 },
 "nbformat": 4,
 "nbformat_minor": 5
}
